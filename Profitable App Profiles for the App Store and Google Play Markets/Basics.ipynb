{
 "cells": [
  {
   "cell_type": "markdown",
   "metadata": {},
   "source": [
    "# What type of apps are likely to attract more users?\n",
    "\n",
    "### Profiling apps to find profitable ideas for the App Store and Google Play markets"
   ]
  },
  {
   "cell_type": "markdown",
   "metadata": {},
   "source": [
    "For this project, my aim is to help a company that builds Android and iOS mobile apps that are available on the Google Play and App Store.\n",
    "\n",
    "This company only builds Android and iOS mobile apps that are free to download and install. Its main source of revenue consists of in-app purchases, which means that the revenue for any given app stems from its number of users on the Google Play and the App Store. \n",
    "\n",
    "My **goal** for this project is to analyze data to help developers understand what type of apps are likely to attract more users.\n",
    "\n",
    "1. I'll collect and analyze data about mobile apps available on Google Play and the App Store using a sample of data. Since there are over 4 million apps on the market, it wouldn't be cost-efficient to collect data for every app.\n",
    "\n",
    "I found some relevant existing data at no cost:\n",
    "\n",
    "[Google Play data set: ](https://www.kaggle.com/lava18/google-play-store-apps/home) contains approximately 10,000 Android apps from Google Play.\n",
    "\n",
    "[App Store data set: ](https://www.kaggle.com/ramamet4/app-store-apple-data-set-10k-apps/home) contains approximately 7,000 iOS apps from the App Store.\n"
   ]
  },
  {
   "cell_type": "code",
   "execution_count": 1,
   "metadata": {
    "collapsed": true
   },
   "outputs": [],
   "source": [
    "#I create an explore data function to make the data sets more readable\n",
    "def explore_data(dataset, start, end, rows_and_columns=False):\n",
    "    dataset_slice = dataset[start:end]    \n",
    "    for row in dataset_slice:\n",
    "        print(row)\n",
    "        print('\\n') # adds a new (empty) line after each row\n",
    "\n",
    "    if rows_and_columns:\n",
    "        print('Number of rows:', len(dataset))\n",
    "        print('Number of columns:', len(dataset[0]))"
   ]
  },
  {
   "cell_type": "code",
   "execution_count": 2,
   "metadata": {
    "collapsed": true
   },
   "outputs": [],
   "source": [
    "from csv import reader\n",
    "\n",
    "# The Google Play data set #\n",
    "opened_file = open('googleplaystore.csv')\n",
    "read_file = reader(opened_file)\n",
    "android = list(read_file)\n",
    "android_header = android[0]\n",
    "android = android[1:]\n",
    "\n",
    "# The App Store data set #\n",
    "opened_file = open('AppleStore.csv')\n",
    "read_file = reader(opened_file)\n",
    "ios = list(read_file)\n",
    "ios_header = ios[0]\n",
    "ios = ios[1:]"
   ]
  },
  {
   "cell_type": "code",
   "execution_count": 3,
   "metadata": {
    "collapsed": false
   },
   "outputs": [
    {
     "name": "stdout",
     "output_type": "stream",
     "text": [
      "['Photo Editor & Candy Camera & Grid & ScrapBook', 'ART_AND_DESIGN', '4.1', '159', '19M', '10,000+', 'Free', '0', 'Everyone', 'Art & Design', 'January 7, 2018', '1.0.0', '4.0.3 and up']\n",
      "\n",
      "\n",
      "['Coloring book moana', 'ART_AND_DESIGN', '3.9', '967', '14M', '500,000+', 'Free', '0', 'Everyone', 'Art & Design;Pretend Play', 'January 15, 2018', '2.0.0', '4.0.3 and up']\n",
      "\n",
      "\n",
      "['U Launcher Lite – FREE Live Cool Themes, Hide Apps', 'ART_AND_DESIGN', '4.7', '87510', '8.7M', '5,000,000+', 'Free', '0', 'Everyone', 'Art & Design', 'August 1, 2018', '1.2.4', '4.0.3 and up']\n",
      "\n",
      "\n",
      "Number of rows: 10841\n",
      "Number of columns: 13\n",
      "\n",
      "\n",
      "['284882215', 'Facebook', '389879808', 'USD', '0.0', '2974676', '212', '3.5', '3.5', '95.0', '4+', 'Social Networking', '37', '1', '29', '1']\n",
      "\n",
      "\n",
      "['389801252', 'Instagram', '113954816', 'USD', '0.0', '2161558', '1289', '4.5', '4.0', '10.23', '12+', 'Photo & Video', '37', '0', '29', '1']\n",
      "\n",
      "\n",
      "['529479190', 'Clash of Clans', '116476928', 'USD', '0.0', '2130805', '579', '4.5', '4.5', '9.24.12', '9+', 'Games', '38', '5', '18', '1']\n",
      "\n",
      "\n",
      "Number of rows: 7197\n",
      "Number of columns: 16\n"
     ]
    }
   ],
   "source": [
    "#I explore both data sets \n",
    "explore_data(android, 0, 3, rows_and_columns=True)\n",
    "print('\\n')\n",
    "explore_data(ios, 0, 3, rows_and_columns=True)"
   ]
  },
  {
   "cell_type": "code",
   "execution_count": 4,
   "metadata": {
    "collapsed": false
   },
   "outputs": [
    {
     "name": "stdout",
     "output_type": "stream",
     "text": [
      "['App', 'Category', 'Rating', 'Reviews', 'Size', 'Installs', 'Type', 'Price', 'Content Rating', 'Genres', 'Last Updated', 'Current Ver', 'Android Ver']\n",
      "\n",
      "\n",
      "['id', 'track_name', 'size_bytes', 'currency', 'price', 'rating_count_tot', 'rating_count_ver', 'user_rating', 'user_rating_ver', 'ver', 'cont_rating', 'prime_genre', 'sup_devices.num', 'ipadSc_urls.num', 'lang.num', 'vpp_lic']\n"
     ]
    }
   ],
   "source": [
    "#printing the column names\n",
    "#here is a link to the column descriptions \n",
    "print(android_header)\n",
    "print('\\n')\n",
    "print(ios_header)"
   ]
  },
  {
   "cell_type": "markdown",
   "metadata": {},
   "source": [
    "Here is the documentation that offer a more detailed description of each column. [Android](https://www.kaggle.com/lava18/google-play-store-apps)\n",
    "[iOS](https://www.kaggle.com/ramamet4/app-store-apple-data-set-10k-apps/home) "
   ]
  },
  {
   "cell_type": "markdown",
   "metadata": {},
   "source": [
    "## Data Cleaning\n",
    "In order to ensure that the data I analyze is accurate, I will \n",
    "1. Detect inaccurate data, and correct it or remove it\n",
    "2. Detect duplicate data, and remove the duplicates\n",
    "3. Remove data that won't help to answer my research question\n",
    "\n",
    "    -Remove non-English apps\n",
    "    \n",
    "    -Remove paid apps"
   ]
  },
  {
   "cell_type": "markdown",
   "metadata": {},
   "source": [
    "I looked in the [discussion section](https://www.kaggle.com/lava18/google-play-store-apps/discussion) and found that there was an [error](https://www.kaggle.com/lava18/google-play-store-apps/discussion/81460#latest-518319) in one of the rows."
   ]
  },
  {
   "cell_type": "markdown",
   "metadata": {},
   "source": [
    "### Deleting Wrong Data"
   ]
  },
  {
   "cell_type": "code",
   "execution_count": 5,
   "metadata": {
    "collapsed": false
   },
   "outputs": [
    {
     "name": "stdout",
     "output_type": "stream",
     "text": [
      "['Life Made WI-Fi Touchscreen Photo Frame', '1.9', '19', '3.0M', '1,000+', 'Free', '0', 'Everyone', '', 'February 11, 2018', '1.0.19', '4.0 and up']\n",
      "Rating\n"
     ]
    }
   ],
   "source": [
    "print(android[10472])\n",
    "print(android_header[2])"
   ]
  },
  {
   "cell_type": "markdown",
   "metadata": {},
   "source": [
    "The rating in this column is unusual.It seems that there was an error in the data entry process. The rating should probably be 1.9 rather than 19, since the rest of the apps are rated up to 5."
   ]
  },
  {
   "cell_type": "code",
   "execution_count": 6,
   "metadata": {
    "collapsed": false
   },
   "outputs": [
    {
     "name": "stdout",
     "output_type": "stream",
     "text": [
      "10841\n",
      "10841\n"
     ]
    }
   ],
   "source": [
    "#I'll delete this row\n",
    "print(len(android))\n",
    "#del android[10472]\n",
    "print(len(android))"
   ]
  },
  {
   "cell_type": "markdown",
   "metadata": {},
   "source": [
    "In the discussion, there were also comments about duplicates. I'll explore the data for duplicates below:"
   ]
  },
  {
   "cell_type": "markdown",
   "metadata": {},
   "source": [
    "### Removing Duplicate Entries\n",
    "#### **Part One:**"
   ]
  },
  {
   "cell_type": "code",
   "execution_count": 7,
   "metadata": {
    "collapsed": false
   },
   "outputs": [
    {
     "name": "stdout",
     "output_type": "stream",
     "text": [
      "['Instagram', 'SOCIAL', '4.5', '66577313', 'Varies with device', '1,000,000,000+', 'Free', '0', 'Teen', 'Social', 'July 31, 2018', 'Varies with device', 'Varies with device']\n",
      "['Instagram', 'SOCIAL', '4.5', '66577446', 'Varies with device', '1,000,000,000+', 'Free', '0', 'Teen', 'Social', 'July 31, 2018', 'Varies with device', 'Varies with device']\n",
      "['Instagram', 'SOCIAL', '4.5', '66577313', 'Varies with device', '1,000,000,000+', 'Free', '0', 'Teen', 'Social', 'July 31, 2018', 'Varies with device', 'Varies with device']\n",
      "['Instagram', 'SOCIAL', '4.5', '66509917', 'Varies with device', '1,000,000,000+', 'Free', '0', 'Teen', 'Social', 'July 31, 2018', 'Varies with device', 'Varies with device']\n"
     ]
    }
   ],
   "source": [
    "#I'll check an app, let's say instagram, to see if it has duplicates\n",
    "for app in android:\n",
    "    name = app[0]\n",
    "    if name == 'Instagram':\n",
    "        print(app)"
   ]
  },
  {
   "cell_type": "code",
   "execution_count": 8,
   "metadata": {
    "collapsed": false
   },
   "outputs": [
    {
     "name": "stdout",
     "output_type": "stream",
     "text": [
      "Number of duplicate apps: 1181\n",
      "Examples of duplicate apps: ['Quick PDF Scanner + OCR FREE', 'Box', 'Google My Business', 'ZOOM Cloud Meetings', 'join.me - Simple Meetings', 'Box', 'Zenefits', 'Google Ads', 'Google My Business', 'Slack', 'FreshBooks Classic', 'Insightly CRM', 'QuickBooks Accounting: Invoicing & Expenses', 'HipChat - Chat Built for Teams', 'Xero Accounting Software']\n"
     ]
    }
   ],
   "source": [
    "#I'll go through each app name, and append it to a list if,\n",
    "#if I come across that app again, I'll append it to the duplicate list\n",
    "duplicate_apps = []\n",
    "unique_apps = []\n",
    "\n",
    "for app in android:\n",
    "    name = app[0]\n",
    "    if name in unique_apps:\n",
    "        duplicate_apps.append(name)\n",
    "    else:\n",
    "        unique_apps.append(name)\n",
    "print('Number of duplicate apps:', len(duplicate_apps))\n",
    "print('Examples of duplicate apps:', duplicate_apps[:15])"
   ]
  },
  {
   "cell_type": "markdown",
   "metadata": {},
   "source": [
    "#### **Part Two:**"
   ]
  },
  {
   "cell_type": "markdown",
   "metadata": {},
   "source": [
    "There are 1881 cases where the app occurs more than once. I will create a dictionary and use it to remove the duplicates. "
   ]
  },
  {
   "cell_type": "code",
   "execution_count": 9,
   "metadata": {
    "collapsed": false
   },
   "outputs": [
    {
     "name": "stdout",
     "output_type": "stream",
     "text": [
      "Expected length 9660\n",
      "Actual length: 9660\n",
      "Expected length: 9660\n"
     ]
    }
   ],
   "source": [
    "print('Expected length', len(android) - 1181)\n",
    "\n",
    "reviews_max = {}\n",
    "\n",
    "for app in android:\n",
    "    name = app[0]     #assign the app name\n",
    "    n_reviews = app[3] #assign the number of reviews in the 4th column\n",
    "    \n",
    "    #if the name already exists as a key in the reviews_max dictionary\n",
    "    #and its number of reviews is greater than its duplicate in the dictionary\n",
    "    if name in reviews_max and reviews_max[name] < n_reviews:\n",
    "        reviews_max[name] = n_reviews  #update the number of reviews for that entry\n",
    "    #if the number of reviews hasn't yet been added to be compared\n",
    "    elif name not in reviews_max:      \n",
    "        reviews_max[name] = n_reviews #add the number of reviews to the reviews_max dictionary\n",
    "        \n",
    "print('Actual length:', len(reviews_max))\n",
    "print('Expected length:', len(android) - 1181)"
   ]
  },
  {
   "cell_type": "markdown",
   "metadata": {},
   "source": [
    "If I delete the duplicates, there will be 9660 apps in total."
   ]
  },
  {
   "cell_type": "code",
   "execution_count": 10,
   "metadata": {
    "collapsed": false
   },
   "outputs": [],
   "source": [
    "#I'll keep the entries with the highest number of reviews, since they are \n",
    "#probably the most recent -- assuming that the # of users grows over time\n",
    "\n",
    "android_clean = []\n",
    "already_added = []\n",
    "\n",
    "for app in android: #loop through the android data set\n",
    "    name = app[0] #isolate the name of the app \n",
    "    n_reviews = (app[3]) #isolate the number of reviews\n",
    "    \n",
    "    #checking for the highest # of reviews that hasn't already been added\n",
    "    #in order to account for duplicates that share the same highest number of reviews\n",
    "    #if the # of reviews matches the max previously recorded in the reviews_max dictionary\n",
    "    if reviews_max[name] == n_reviews and (name not in already_added):\n",
    "        android_clean.append(app) #add the current row to this list\n",
    "        already_added.append(name) #add the current name to this list"
   ]
  },
  {
   "cell_type": "markdown",
   "metadata": {},
   "source": [
    "Explore the number of rows and confirm that the number of rows is 9660"
   ]
  },
  {
   "cell_type": "code",
   "execution_count": 11,
   "metadata": {
    "collapsed": false
   },
   "outputs": [
    {
     "name": "stdout",
     "output_type": "stream",
     "text": [
      "['Photo Editor & Candy Camera & Grid & ScrapBook', 'ART_AND_DESIGN', '4.1', '159', '19M', '10,000+', 'Free', '0', 'Everyone', 'Art & Design', 'January 7, 2018', '1.0.0', '4.0.3 and up']\n",
      "\n",
      "\n",
      "['U Launcher Lite – FREE Live Cool Themes, Hide Apps', 'ART_AND_DESIGN', '4.7', '87510', '8.7M', '5,000,000+', 'Free', '0', 'Everyone', 'Art & Design', 'August 1, 2018', '1.2.4', '4.0.3 and up']\n",
      "\n",
      "\n",
      "['Sketch - Draw & Paint', 'ART_AND_DESIGN', '4.5', '215644', '25M', '50,000,000+', 'Free', '0', 'Teen', 'Art & Design', 'June 8, 2018', 'Varies with device', '4.2 and up']\n",
      "\n",
      "\n",
      "Number of rows: 9660\n",
      "Number of columns: 13\n"
     ]
    }
   ],
   "source": [
    "explore_data(android_clean, 0, 3, True)"
   ]
  },
  {
   "cell_type": "markdown",
   "metadata": {},
   "source": [
    "### Removing Non-English Apps\n",
    "Since the company I'm analyzing data for targets an English-speaking audience, I'll remove apps whose names suggest that they are not directed toward an English-speaking audience.\n",
    "\n",
    "1. Remove each app with a name containing a symbol that is not commonly used in English text. (numbers 0-9, punctuation marks(., !, ?, ;), and other symbols (+, *, /))\n",
    "    a. Iterate through the characters of the app name's string\n",
    "    b. If the app name contains a character with an ASCII number greater than 127, (the English range is 0-127), then the app probably has a non-English name.\n",
    "\n",
    "#### **Part One:**"
   ]
  },
  {
   "cell_type": "code",
   "execution_count": 12,
   "metadata": {
    "collapsed": false
   },
   "outputs": [
    {
     "name": "stdout",
     "output_type": "stream",
     "text": [
      "爱奇艺PPS -《欢乐颂2》电视剧热播\n",
      "【脱出ゲーム】絶対に最後までプレイしないで 〜謎解き＆ブロックパズル〜 \n",
      "\n",
      "Wowkwis aq Ka'qaquj\n",
      "PHARMAGUIDE (DZ) \n",
      "\n",
      "97\n",
      "65\n",
      "29233\n",
      "53\n",
      "43\n"
     ]
    }
   ],
   "source": [
    "#For example:\n",
    "print(ios[813][1])\n",
    "print(ios[6731][1], '\\n')\n",
    "print(android_clean[4412][0])\n",
    "print(android_clean[7940][0], '\\n')\n",
    "\n",
    "#get the corresponding ASCII number of each character(English range 0 to 127)\n",
    "print(ord('a'))\n",
    "print(ord('A'))\n",
    "print(ord('爱'))\n",
    "print(ord('5'))\n",
    "print(ord('+'))"
   ]
  },
  {
   "cell_type": "code",
   "execution_count": 13,
   "metadata": {
    "collapsed": false
   },
   "outputs": [
    {
     "data": {
      "text/plain": [
       "False"
      ]
     },
     "execution_count": 13,
     "metadata": {},
     "output_type": "execute_result"
    }
   ],
   "source": [
    "#for app in android_clean:\n",
    "#        name = app[0]\n",
    "def is_english(name):\n",
    "    \n",
    "    for character in name:   #for each character of the string\n",
    "        if ord(character) > 127:   #if it's not in the English ASCII\n",
    "            return False   #the app name is probably non-English\n",
    "\n",
    "    return True    #the app name is probably English\n",
    "is_english('Instagram')\n",
    "is_english('爱奇艺PPS -《欢乐颂2》电视剧热播')\n"
   ]
  },
  {
   "cell_type": "code",
   "execution_count": 14,
   "metadata": {
    "collapsed": false
   },
   "outputs": [
    {
     "data": {
      "text/plain": [
       "False"
      ]
     },
     "execution_count": 14,
     "metadata": {},
     "output_type": "execute_result"
    }
   ],
   "source": [
    "is_english('Docs To Go™ Free Office Suite')\n",
    "is_english('Instachat 😜')"
   ]
  },
  {
   "cell_type": "markdown",
   "metadata": {},
   "source": [
    "Some apps have miscellanious English characters that are not below 127 in ASCII, like the trademark symbol(™) and this emoji (\"😜\"). \n",
    "My function evaluated them to False."
   ]
  },
  {
   "cell_type": "code",
   "execution_count": 15,
   "metadata": {
    "collapsed": false
   },
   "outputs": [
    {
     "name": "stdout",
     "output_type": "stream",
     "text": [
      "8482\n",
      "128540\n"
     ]
    }
   ],
   "source": [
    "print(ord('™'))\n",
    "print(ord('😜'))"
   ]
  },
  {
   "cell_type": "markdown",
   "metadata": {},
   "source": [
    "**Part Two:**"
   ]
  },
  {
   "cell_type": "markdown",
   "metadata": {},
   "source": [
    "In order to minimize the loss of too much valuable data, I'll have to create a new function that will classify an app name as English if it has at most 3 English characters are above the English ASCII threshold of 127."
   ]
  },
  {
   "cell_type": "code",
   "execution_count": 16,
   "metadata": {
    "collapsed": false
   },
   "outputs": [
    {
     "name": "stdout",
     "output_type": "stream",
     "text": [
      "True\n",
      "False\n",
      "True\n",
      "True\n"
     ]
    }
   ],
   "source": [
    "def is_english_forthemostpart(name):\n",
    "    non_english = 0\n",
    "    for character in name:   #for each character of the string\n",
    "        if ord(character) > 127:   #if it's not in the English ASCII\n",
    "            non_english += 1 #the app name is probably non-English\n",
    "        \n",
    "    if non_english > 3:\n",
    "        return False    #the app name has too many non-English characters to be safely considered English\n",
    "    else:\n",
    "        return True     #the app name is probably English with a few miscellaneous characters\n",
    "\n",
    "print(is_english_forthemostpart('Instagram'))\n",
    "print(is_english_forthemostpart('爱奇艺PPS -《欢乐颂2》电视剧热播'))\n",
    "print(is_english_forthemostpart('Docs To Go™ Free Office Suite'))\n",
    "print(is_english_forthemostpart('Instachat 😜'))"
   ]
  },
  {
   "cell_type": "markdown",
   "metadata": {},
   "source": [
    "Great! I'll use this function to filter out non-English apps from both data sets. \n",
    "    1. Loop through each data set\n",
    "        a. if an app name is identified as English, append the whole row to a separate list"
   ]
  },
  {
   "cell_type": "code",
   "execution_count": 17,
   "metadata": {
    "collapsed": false
   },
   "outputs": [
    {
     "name": "stdout",
     "output_type": "stream",
     "text": [
      "Android \n",
      "\n",
      "Number of rows before English filtering: 9660\n",
      "Number of rows after English filtering 9615\n",
      "Number of rows filtered: 45 \n",
      "\n",
      "['Photo Editor & Candy Camera & Grid & ScrapBook', 'ART_AND_DESIGN', '4.1', '159', '19M', '10,000+', 'Free', '0', 'Everyone', 'Art & Design', 'January 7, 2018', '1.0.0', '4.0.3 and up']\n",
      "\n",
      "\n",
      "['U Launcher Lite – FREE Live Cool Themes, Hide Apps', 'ART_AND_DESIGN', '4.7', '87510', '8.7M', '5,000,000+', 'Free', '0', 'Everyone', 'Art & Design', 'August 1, 2018', '1.2.4', '4.0.3 and up']\n",
      "\n",
      "\n",
      "['Sketch - Draw & Paint', 'ART_AND_DESIGN', '4.5', '215644', '25M', '50,000,000+', 'Free', '0', 'Teen', 'Art & Design', 'June 8, 2018', 'Varies with device', '4.2 and up']\n",
      "\n",
      "\n",
      "Number of rows: 9615\n",
      "Number of columns: 13\n",
      "\n",
      "\n",
      "iOS \n",
      "\n",
      "Number of rows before English filtering: 7197\n",
      "Number of rows after English filtering: 6183\n",
      "Number of rows filtered: 1014 \n",
      "\n",
      "['284882215', 'Facebook', '389879808', 'USD', '0.0', '2974676', '212', '3.5', '3.5', '95.0', '4+', 'Social Networking', '37', '1', '29', '1']\n",
      "\n",
      "\n",
      "['389801252', 'Instagram', '113954816', 'USD', '0.0', '2161558', '1289', '4.5', '4.0', '10.23', '12+', 'Photo & Video', '37', '0', '29', '1']\n",
      "\n",
      "\n",
      "['529479190', 'Clash of Clans', '116476928', 'USD', '0.0', '2130805', '579', '4.5', '4.5', '9.24.12', '9+', 'Games', '38', '5', '18', '1']\n",
      "\n",
      "\n",
      "Number of rows: 6183\n",
      "Number of columns: 16\n"
     ]
    }
   ],
   "source": [
    "android_clean_english = []\n",
    "ios_english = []\n",
    "\n",
    "for app in android_clean:\n",
    "    name = app[0]\n",
    "    if is_english_forthemostpart(name):\n",
    "        android_clean_english.append(app)\n",
    "\n",
    "for app in ios:\n",
    "    name = app[1]   #the name column in ios starts on the second column\n",
    "    if is_english_forthemostpart(name):\n",
    "        ios_english.append(app)\n",
    "     \n",
    "print('Android', '\\n')\n",
    "print('Number of rows before English filtering:', len(android_clean))\n",
    "print('Number of rows after English filtering', len(android_clean_english))\n",
    "print('Number of rows filtered:', len(android_clean) - len(android_clean_english), '\\n')\n",
    "\n",
    "explore_data(android_clean_english, 0, 3, True)\n",
    "print('\\n')\n",
    "\n",
    "print('iOS', '\\n')\n",
    "print('Number of rows before English filtering:', len(ios))\n",
    "print('Number of rows after English filtering:', len(ios_english))\n",
    "print('Number of rows filtered:', len(ios) - len(ios_english), '\\n')\n",
    "explore_data(ios_english, 0, 3, True)"
   ]
  },
  {
   "cell_type": "markdown",
   "metadata": {},
   "source": [
    "I removed 45 non-English apps from the Android app data set and 1014 non-English apps from the iOS stores, minimizing a loss of data by making exceptions for apps with cumbersome titles.\n",
    "\n",
    "I'm left with 9615 Android apps and 6183 iOS apps.\n",
    "(It seems that there are 22x more non-English apps in the iOS store!)"
   ]
  },
  {
   "cell_type": "markdown",
   "metadata": {},
   "source": [
    "### Isolating the Free Apps"
   ]
  },
  {
   "cell_type": "markdown",
   "metadata": {
    "collapsed": true
   },
   "source": [
    "As I mentioned in the introduction, the company only want to build apps that are free to download and install, and its main source of revenye consists of in-app ads. The data set conains both free and non-free apps, I'll need to isolate only the free apps for my analysis."
   ]
  },
  {
   "cell_type": "code",
   "execution_count": 18,
   "metadata": {
    "collapsed": false
   },
   "outputs": [
    {
     "name": "stdout",
     "output_type": "stream",
     "text": [
      "Android\n",
      "10841\n",
      "9615\n",
      "8862\n",
      "Removed 753 paid apps\n",
      "\n",
      "\n",
      "iOS\n",
      "7197\n",
      "6183\n",
      "3222\n",
      "Removed 2961 paid apps\n",
      "\n",
      "What's the difference?\n",
      " 7.831513260530422 18.254773544875935 47.88937409024746 55.23134639433097\n"
     ]
    }
   ],
   "source": [
    "#loop through each dataset to isolate the free apps in separate lists for app in android: if \n",
    "android_final = []\n",
    "ios_final = []\n",
    "\n",
    "for app in android_clean_english:\n",
    "    price = app[7]\n",
    "    if price == '0':\n",
    "        android_final.append(app)\n",
    "\n",
    "for app in ios_english:\n",
    "    price = app[4]\n",
    "    if price == '0.0':\n",
    "        ios_final.append(app)\n",
    "\n",
    "#check the length of each data set to see the number of remaining apps\n",
    "print('Android')\n",
    "print(len(android))\n",
    "print(len(android_clean_english))\n",
    "print(len(android_final))\n",
    "print('Removed', len(android_clean_english) - len(android_final), 'paid apps')\n",
    "print('\\n')\n",
    "print('iOS')\n",
    "print(len(ios))\n",
    "print(len(ios_english))\n",
    "print(len(ios_final))\n",
    "print('Removed', len(ios_english) - len(ios_final), 'paid apps')\n",
    "\n",
    "def percent_change(old, new):\n",
    "    difference = old - new\n",
    "    return difference/old * 100\n",
    "\n",
    "print('\\nWhat\\'s the difference?\\n', \n",
    "percent_change(len(android_clean_english), len(android_final)),\n",
    "percent_change(len(android), len(android_final)),\n",
    "percent_change(len(ios_english), len(ios_final)),\n",
    "percent_change(len(ios), len(ios_final))\n",
    ")\n"
   ]
  },
  {
   "cell_type": "markdown",
   "metadata": {},
   "source": [
    "The final android app dataset length decreasrd by 7.83% when I isolated the free apps. The original android dataset decreased by 18.25% since I began the cleaning process.\n",
    "\n",
    "The final ios app data set has 47.89% fewer apps without the paid apps, and the overall cleaning process decreased the ios data by 55.23%!\n",
    "\n",
    "The ios app store had a significant amount of paid apps compared to android!\n",
    "\n",
    "Before this point, I tried to minimize the loss of valuable data while cleaning the data according to my research goals. I removed inaccurate and duplicate app entries and non-English apps, and isolated the free apps."
   ]
  },
  {
   "cell_type": "markdown",
   "metadata": {},
   "source": [
    "## Analysis\n",
    "Now, I will analyze the data to determine the kinds of apps that are likely to attract more users because the company's revenue is highly influenced by the number of people using their apps.\n",
    "\n",
    "In order to minimize risk and overhead, the company's validation strategy for an app idea consists of three steps:\n",
    "\n",
    "1. Build a minimal Android version of the app, and add it to Google Play\n",
    "2. If the app has a good response from users, develop it further\n",
    "3. If the app is profitable after six months, build an IOS version of the app and add it to the App Store\n",
    "\n",
    "Their end goal is to add the app on both Google Play and the App Store, so they need to add find app profiles that are successful on both markets. For example, an app that works well for both markets would be a productivity app that uses gamification to improve utility.\n",
    "\n",
    "\n",
    "### Most Common App by Genre\n",
    "I'll begin the analysis by getting a sense of what the most common genres are for each market.\n",
    "#### **Part One:**\n",
    "Build frequency tables for a few columns in the data sets."
   ]
  },
  {
   "cell_type": "code",
   "execution_count": 19,
   "metadata": {
    "collapsed": false
   },
   "outputs": [
    {
     "name": "stdout",
     "output_type": "stream",
     "text": [
      "['App', 'Category', 'Rating', 'Reviews', 'Size', 'Installs', 'Type', 'Price', 'Content Rating', 'Genres', 'Last Updated', 'Current Ver', 'Android Ver'] \n",
      " Category Genres\n",
      "\n",
      " ['id', 'track_name', 'size_bytes', 'currency', 'price', 'rating_count_tot', 'rating_count_ver', 'user_rating', 'user_rating_ver', 'ver', 'cont_rating', 'prime_genre', 'sup_devices.num', 'ipadSc_urls.num', 'lang.num', 'vpp_lic'] \n",
      " prime_genre\n"
     ]
    }
   ],
   "source": [
    "#find appropriate columns\n",
    "print(android_header,'\\n', android_header[1], android_header[-4])\n",
    "print('\\n', ios_header, '\\n', ios_header[-5])"
   ]
  },
  {
   "cell_type": "markdown",
   "metadata": {},
   "source": [
    "I've chosen the 'Category' and 'Genre' columns in the android dataset, and the 'prime_genre' column in the ios dataet."
   ]
  },
  {
   "cell_type": "markdown",
   "metadata": {},
   "source": [
    "#### **Part Two**\n",
    "I'll generate frequency tables that show percentages"
   ]
  },
  {
   "cell_type": "code",
   "execution_count": 20,
   "metadata": {
    "collapsed": false
   },
   "outputs": [],
   "source": [
    "#build frequency function\n",
    "def freq_table(dataset, index):    #take a list of lists and an integer\n",
    "    total = 0                      #initialize the total count to 0\n",
    "    table = {}                     #declare the dictionary\n",
    "    for app in dataset:\n",
    "        total += 1                 #increase count by 1\n",
    "        genre = app[index]         #extract app's genre at a predetermined index\n",
    "        if genre in table:         #if the genre is in the table\n",
    "            table[genre] += 1      #increase genre's count in the table\n",
    "        else:                      #otherwise\n",
    "            table[genre] = 1       #add genre to the table\n",
    "       \n",
    "    table_percentages = {}         #declare a new dictionary for genre's percentages\n",
    "    for key in table:              \n",
    "        percentage = (table[key] / total) * 100  #calculate the percentage for each frequency based on total number of columns \n",
    "        table_percentages[key] = percentage      #add result to new dictionary\n",
    "    \n",
    "    return table_percentages\n",
    "    \n",
    "#build display function to show table in descending order\n",
    "def display(dataset, index):        \n",
    "    table = freq_table(dataset, index)   #generatess a freq table \n",
    "    table_display = []                   \n",
    "    for key in table:                    \n",
    "        key_val_as_tuple = (table[key], key) #transforms dictionary into a list of tuples to make use of sorted function\n",
    "        table_display.append(key_val_as_tuple)  #stores tuples\n",
    "        \n",
    "    table_sorted = sorted(table_display, reverse = True) #sorts tuples in descending order\n",
    "    for entry in table_sorted:\n",
    "        print(entry[1], ':', entry[0])  #prints sorted tuples in proper order"
   ]
  },
  {
   "cell_type": "markdown",
   "metadata": {},
   "source": [
    "#### **Part Three**\n",
    "I'll analyze the frequency table for each column."
   ]
  },
  {
   "cell_type": "code",
   "execution_count": 21,
   "metadata": {
    "collapsed": false
   },
   "outputs": [
    {
     "name": "stdout",
     "output_type": "stream",
     "text": [
      "Games : 53.66124774211477\n",
      "Entertainment : 7.433652910935113\n",
      "Education : 6.294289287203002\n",
      "Photo & Video : 4.849242740030569\n",
      "Utilities : 3.4458802278727245\n",
      "Health & Fitness : 2.501042100875365\n",
      "Productivity : 2.473252744198972\n",
      "Social Networking : 2.3204112824788106\n",
      "Lifestyle : 2.0008336807002918\n",
      "Music : 1.9174656106711132\n",
      "Shopping : 1.6951507572599693\n",
      "Sports : 1.5839933305543976\n",
      "Book : 1.5562039738780047\n",
      "Finance : 1.445046547172433\n",
      "Travel : 1.1254689453939142\n",
      "News : 1.0421008753647354\n",
      "Weather : 1.0004168403501459\n",
      "Reference : 0.8892594136445742\n",
      "Food & Drink : 0.8753647353063776\n",
      "Business : 0.7919966652771988\n",
      "Navigation : 0.6391552035570377\n",
      "Medical : 0.31957760177851885\n",
      "Catalogs : 0.1389467833819647\n"
     ]
    }
   ],
   "source": [
    "display(ios, -5) #iOS's prime_genre columns"
   ]
  },
  {
   "cell_type": "markdown",
   "metadata": {},
   "source": [
    "iOS\n",
    "The most common iOS genre is Games, and then Entertainment.\n",
    "Games accounts for more than 53% of the prime genres.\n",
    "Some other common genres are Education, Photo & Video, Utility, Health & Fitness, and Productivity.\n",
    "\n",
    "Most of the apps are designed for fun(games, entertainment, photo and video editing, social networking, sports, music) and fewer for practical purposes (education, shopping, utilities, productivity, lifestyle)\n",
    "\n",
    "I wouldn't be quick to recommend an app profile for the App Store market based on this frequency table alone, because even though there is a large number of apps for a particular genre, that does not necessarily imply that they have a large number of users."
   ]
  },
  {
   "cell_type": "code",
   "execution_count": 22,
   "metadata": {
    "collapsed": false
   },
   "outputs": [
    {
     "name": "stdout",
     "output_type": "stream",
     "text": [
      "FAMILY : 18.934777702550214\n",
      "GAME : 9.693071541412774\n",
      "TOOLS : 8.451816745655607\n",
      "BUSINESS : 4.5926427443015125\n",
      "LIFESTYLE : 3.9043105393816293\n",
      "PRODUCTIVITY : 3.8930264048747465\n",
      "FINANCE : 3.7011961182577298\n",
      "MEDICAL : 3.5206499661475967\n",
      "SPORTS : 3.39652448657188\n",
      "PERSONALIZATION : 3.3175355450236967\n",
      "COMMUNICATION : 3.238546603475513\n",
      "HEALTH_AND_FITNESS : 3.080568720379147\n",
      "PHOTOGRAPHY : 2.945159106296547\n",
      "NEWS_AND_MAGAZINES : 2.798465357707064\n",
      "SOCIAL : 2.663055743624464\n",
      "TRAVEL_AND_LOCAL : 2.335815842924848\n",
      "SHOPPING : 2.2455427668697814\n",
      "BOOKS_AND_REFERENCE : 2.143985556307831\n",
      "DATING : 1.8618821936357481\n",
      "VIDEO_PLAYERS : 1.7941773865944481\n",
      "MAPS_AND_NAVIGATION : 1.399232678853532\n",
      "FOOD_AND_DRINK : 1.2412547957571656\n",
      "EDUCATION : 1.1735499887158656\n",
      "ENTERTAINMENT : 0.9591514330850823\n",
      "LIBRARIES_AND_DEMO : 0.9365831640713158\n",
      "AUTO_AND_VEHICLES : 0.9252990295644324\n",
      "HOUSE_AND_HOME : 0.8237418190024826\n",
      "WEATHER : 0.8011735499887158\n",
      "EVENTS : 0.7109004739336493\n",
      "PARENTING : 0.6544798013992327\n",
      "ART_AND_DESIGN : 0.6431956668923494\n",
      "COMICS : 0.6206273978785828\n",
      "BEAUTY : 0.598059128864816\n"
     ]
    }
   ],
   "source": [
    "display(android_final, 1) #Android's Category column"
   ]
  },
  {
   "cell_type": "markdown",
   "metadata": {},
   "source": [
    "The most common android app categories are Family, Game, and Tools.\n",
    "\n",
    "The landscape is different for apps on Google Play. Most apps are for practical purposes, rather than for fun.\n",
    "\n",
    "When taking a closer look at the family apps, I found that most of them were actually gaming apps for kids. \n",
    "\n",
    "Even so, practical apps have a greater representation on Google Play compared to App Store.\n",
    "\n",
    "This is confirmed by the Genres column on Google Play."
   ]
  },
  {
   "cell_type": "code",
   "execution_count": 23,
   "metadata": {
    "collapsed": false
   },
   "outputs": [
    {
     "name": "stdout",
     "output_type": "stream",
     "text": [
      "Tools : 8.440532611148726\n",
      "Entertainment : 6.070864364703228\n",
      "Education : 5.348679756262695\n",
      "Business : 4.5926427443015125\n",
      "Productivity : 3.8930264048747465\n",
      "Lifestyle : 3.8930264048747465\n",
      "Finance : 3.7011961182577298\n",
      "Medical : 3.5206499661475967\n",
      "Sports : 3.4642292936131795\n",
      "Personalization : 3.3175355450236967\n",
      "Communication : 3.238546603475513\n",
      "Action : 3.1031369893929135\n",
      "Health & Fitness : 3.080568720379147\n",
      "Photography : 2.945159106296547\n",
      "News & Magazines : 2.798465357707064\n",
      "Social : 2.663055743624464\n",
      "Travel & Local : 2.324531708417964\n",
      "Shopping : 2.2455427668697814\n",
      "Books & Reference : 2.143985556307831\n",
      "Simulation : 2.0424283457458814\n",
      "Dating : 1.8618821936357481\n",
      "Arcade : 1.8505980591288649\n",
      "Video Players & Editors : 1.7716091175806816\n",
      "Casual : 1.7490408485669149\n",
      "Maps & Navigation : 1.399232678853532\n",
      "Food & Drink : 1.2412547957571656\n",
      "Puzzle : 1.128413450688332\n",
      "Racing : 0.9930038366057323\n",
      "Role Playing : 0.9365831640713158\n",
      "Libraries & Demo : 0.9365831640713158\n",
      "Auto & Vehicles : 0.9252990295644324\n",
      "Strategy : 0.9140148950575491\n",
      "House & Home : 0.8237418190024826\n",
      "Weather : 0.8011735499887158\n",
      "Events : 0.7109004739336493\n",
      "Adventure : 0.6770480704129994\n",
      "Comics : 0.6093432633716994\n",
      "Beauty : 0.598059128864816\n",
      "Art & Design : 0.598059128864816\n",
      "Parenting : 0.49650191830286616\n",
      "Card : 0.4400812457684496\n",
      "Casino : 0.4287971112615662\n",
      "Trivia : 0.41751297675468296\n",
      "Educational;Education : 0.3949447077409162\n",
      "Educational : 0.3723764387271496\n",
      "Board : 0.3723764387271496\n",
      "Education;Education : 0.3385240352064997\n",
      "Word : 0.2595350936583164\n",
      "Casual;Pretend Play : 0.23696682464454977\n",
      "Music : 0.2031144211238998\n",
      "Puzzle;Brain Games : 0.18054615211013314\n",
      "Racing;Action & Adventure : 0.16926201760324985\n",
      "Entertainment;Music & Video : 0.16926201760324985\n",
      "Casual;Brain Games : 0.13540961408259986\n",
      "Casual;Action & Adventure : 0.13540961408259986\n",
      "Arcade;Action & Adventure : 0.12412547957571654\n",
      "Action;Action & Adventure : 0.1015572105619499\n",
      "Educational;Pretend Play : 0.09027307605506657\n",
      "Board;Brain Games : 0.09027307605506657\n",
      "Simulation;Action & Adventure : 0.07898894154818326\n",
      "Parenting;Education : 0.07898894154818326\n",
      "Entertainment;Brain Games : 0.07898894154818326\n",
      "Parenting;Music & Video : 0.06770480704129993\n",
      "Educational;Brain Games : 0.06770480704129993\n",
      "Casual;Creativity : 0.06770480704129993\n",
      "Art & Design;Creativity : 0.06770480704129993\n",
      "Education;Pretend Play : 0.056420672534416606\n",
      "Role Playing;Pretend Play : 0.045136538027533285\n",
      "Education;Creativity : 0.045136538027533285\n",
      "Role Playing;Action & Adventure : 0.033852403520649964\n",
      "Puzzle;Action & Adventure : 0.033852403520649964\n",
      "Entertainment;Creativity : 0.033852403520649964\n",
      "Entertainment;Action & Adventure : 0.033852403520649964\n",
      "Educational;Creativity : 0.033852403520649964\n",
      "Educational;Action & Adventure : 0.033852403520649964\n",
      "Education;Music & Video : 0.033852403520649964\n",
      "Education;Brain Games : 0.033852403520649964\n",
      "Education;Action & Adventure : 0.033852403520649964\n",
      "Adventure;Action & Adventure : 0.033852403520649964\n",
      "Video Players & Editors;Music & Video : 0.022568269013766643\n",
      "Sports;Action & Adventure : 0.022568269013766643\n",
      "Simulation;Pretend Play : 0.022568269013766643\n",
      "Puzzle;Creativity : 0.022568269013766643\n",
      "Music;Music & Video : 0.022568269013766643\n",
      "Entertainment;Pretend Play : 0.022568269013766643\n",
      "Casual;Education : 0.022568269013766643\n",
      "Board;Action & Adventure : 0.022568269013766643\n",
      "Video Players & Editors;Creativity : 0.011284134506883321\n",
      "Trivia;Education : 0.011284134506883321\n",
      "Travel & Local;Action & Adventure : 0.011284134506883321\n",
      "Tools;Education : 0.011284134506883321\n",
      "Strategy;Education : 0.011284134506883321\n",
      "Strategy;Creativity : 0.011284134506883321\n",
      "Strategy;Action & Adventure : 0.011284134506883321\n",
      "Simulation;Education : 0.011284134506883321\n",
      "Role Playing;Brain Games : 0.011284134506883321\n",
      "Racing;Pretend Play : 0.011284134506883321\n",
      "Puzzle;Education : 0.011284134506883321\n",
      "Parenting;Brain Games : 0.011284134506883321\n",
      "Music & Audio;Music & Video : 0.011284134506883321\n",
      "Lifestyle;Pretend Play : 0.011284134506883321\n",
      "Lifestyle;Education : 0.011284134506883321\n",
      "Health & Fitness;Education : 0.011284134506883321\n",
      "Health & Fitness;Action & Adventure : 0.011284134506883321\n",
      "Entertainment;Education : 0.011284134506883321\n",
      "Communication;Creativity : 0.011284134506883321\n",
      "Comics;Creativity : 0.011284134506883321\n",
      "Casual;Music & Video : 0.011284134506883321\n",
      "Card;Brain Games : 0.011284134506883321\n",
      "Card;Action & Adventure : 0.011284134506883321\n",
      "Books & Reference;Education : 0.011284134506883321\n",
      "Art & Design;Pretend Play : 0.011284134506883321\n",
      "Art & Design;Action & Adventure : 0.011284134506883321\n",
      "Arcade;Pretend Play : 0.011284134506883321\n",
      "Adventure;Education : 0.011284134506883321\n"
     ]
    }
   ],
   "source": [
    "display(android_final, -4) #Android's Genres columnn"
   ]
  },
  {
   "cell_type": "markdown",
   "metadata": {},
   "source": [
    "The most common genre is Tools, which accounts for 8.44%, followed by Entertainment (6.07%), Education (5.35%), Business (4.59%), Productivity (3.89%), Lifestyle (3.89%), and Finance (3.7%).\n",
    "\n",
    "Although Entertainment is the runner up, it only accounts for 6%, while practical apps have a larger representation."
   ]
  },
  {
   "cell_type": "markdown",
   "metadata": {},
   "source": [
    "Overall, the frequency tables shows that the App Store is dominated by apps designed for fun, while the Google Play shows a more balanced landscape of both practicala and fun apps.\n",
    "\n",
    "However, the most common app genres doesn't give me enough information to recommend the kind of app with the most users. \n",
    "\n",
    "I have to look at the number of user to find the most popular apps by Genre."
   ]
  },
  {
   "cell_type": "markdown",
   "metadata": {},
   "source": [
    "### Most Popular Apps by Genre\n",
    "I'll calculate the average number of installs for each app genre.\n",
    "The Google Play dataset has an 'Installs' column, however this kind of column is missing for the App Store dataset. As a proxy, I'll take the total number of ratings, which is in the 'rating_count_tot' column.\n",
    "\n",
    "#calculate the average number of user ratings per app genre on the App Store\n",
    "\n",
    "1. Isolate the apps of each genre\n",
    "2. Sum up the user ratings for the apps of that genre\n",
    "3. Divide the sum by th number of apps belonging to that genre (not by the total number of apps)"
   ]
  },
  {
   "cell_type": "markdown",
   "metadata": {},
   "source": [
    "### On the App Store"
   ]
  },
  {
   "cell_type": "code",
   "execution_count": 24,
   "metadata": {
    "collapsed": false
   },
   "outputs": [
    {
     "name": "stdout",
     "output_type": "stream",
     "text": [
      "Weather : 52279.892857142855\n",
      "Utilities : 18684.456790123455\n",
      "Medical : 612.0\n",
      "Travel : 28243.8\n",
      "News : 21248.023255813954\n",
      "Navigation : 86090.33333333333\n",
      "Sports : 23008.898550724636\n",
      "Shopping : 26919.690476190477\n",
      "Education : 7003.983050847458\n",
      "Finance : 31467.944444444445\n",
      "Photo & Video : 28441.54375\n",
      "Entertainment : 14029.830708661417\n",
      "Social Networking : 71548.34905660378\n",
      "Music : 57326.530303030304\n",
      "Health & Fitness : 23298.015384615384\n",
      "Games : 22788.6696905016\n",
      "Productivity : 21028.410714285714\n",
      "Lifestyle : 16485.764705882353\n",
      "Business : 7491.117647058823\n",
      "Reference : 74942.11111111111\n",
      "Catalogs : 4004.0\n",
      "Food & Drink : 33333.92307692308\n",
      "Book : 39758.5\n"
     ]
    }
   ],
   "source": [
    "#looking at the rating_count_tot column\n",
    "ios_freq_table = freq_table(ios_final, -5)\n",
    "\n",
    "#create nested loop\n",
    "for genre in ios_freq_table:\n",
    "    total = 0\n",
    "    len_genre = 0\n",
    "    for app in ios_final:\n",
    "        genre_app = app[-5]\n",
    "        if genre_app == genre:\n",
    "            num_user_ratings = float(app[5])   # index of 'rating_count_tot'\n",
    "            total += num_user_ratings\n",
    "            len_genre += 1\n",
    "    avg_num_user_ratings = total/len_genre\n",
    "    print(genre, ':', avg_num_user_ratings)"
   ]
  },
  {
   "cell_type": "markdown",
   "metadata": {},
   "source": [
    "Navigation apps appear to be the most popular with an average of 86,090 user ratings."
   ]
  },
  {
   "cell_type": "code",
   "execution_count": 25,
   "metadata": {
    "collapsed": false
   },
   "outputs": [
    {
     "name": "stdout",
     "output_type": "stream",
     "text": [
      "Waze - GPS Navigation, Maps & Real-time Traffic : 345046\n",
      "Google Maps - Navigation & Transit : 154911\n",
      "Geocaching® : 12811\n",
      "CoPilot GPS – Car Navigation & Offline Maps : 3582\n",
      "ImmobilienScout24: Real Estate Search in Germany : 187\n",
      "Railway Route Search : 5\n",
      "\n",
      "\n",
      "User counts: ['345046', '154911', '12811', '3582', '187', '5']\n",
      "Top user counts: ['345046', '154911']\n",
      "Total users: 516542\n",
      "Top user counts share: 96.78922527112994\n"
     ]
    }
   ],
   "source": [
    "navigation_apps = {}\n",
    "\n",
    "for app in ios_final:\n",
    "    genre = app[-5]\n",
    "    name = app[1]\n",
    "    if genre == 'Navigation':\n",
    "        navigation_apps[name] = app[5]\n",
    "        print(app[1], ':', app[5]) # print name and number of ratings\n",
    "\n",
    "print('\\n')\n",
    "total_of_values = 0\n",
    "for value in navigation_apps.values():\n",
    "    total_of_values += int(value)\n",
    "\n",
    "values = sorted(navigation_apps.values(), key=lambda kv: int(kv), reverse=True)\n",
    "top_values = values[:2]\n",
    "sum_top_values = int(top_values[0]) + int(top_values[1])\n",
    "\n",
    "print('User counts:', values)\n",
    "print('Top user counts:', top_values)\n",
    "print('Total users:', total_of_values)\n",
    "\n",
    "top_values_share = (sum_top_values/total_of_values) * 100\n",
    "print('Top user counts share:', top_values_share)\n",
    "\n",
    "#sorted(navigation_apps.items(), key=lambda kv: kv[1], reverse=True)\n",
    "#print(navigation_apps, '\\n')"
   ]
  },
  {
   "cell_type": "markdown",
   "metadata": {},
   "source": [
    "Waze and Google Maps have the highest number of installs (proxied by rating counts) among Navigation apps, with 345046 and 154911 installs respectively.\n",
    "\n",
    "They represent 96% of users the Navigation apps, and have close to half a million user reviews together.\n",
    "\n",
    "In this case, I would recommend creating apps whose profiles consist of GPS Navigation, Maps, Real-time Traffic, and Transit, which are key elements of Waze and Google Maps.\n",
    "\n",
    "However, the high average number of users for Navigation apps is accounted for by two apps that dominate the space. While some apps have around a quarter of a million users, others are barely approaching 15,000.\n",
    "\n",
    "This is similar for the Social Networking genre(Facebook, Pinterest, and Skype), and the Music genre (Pandora, Spotify, and Shazam) where a few large apps influence the average.\n",
    "\n",
    "If my goal is to find the most popular genre based on the average number of users (i.e. installs, rating counts), then I'll need to consider that these huge apps have skewed the average, making the genre seem more popular than it actually is.\n",
    "\n",
    "Since these genres have such huge players, it might be less risky and more cost-efficient to profile a genre with smaller competitors, and a user average that isn't as skewed by a few number of extremely popular apps. \n",
    "\n",
    "For further analysis, I could remove the extremely popular apps, and recalculate the averages for each genre. "
   ]
  },
  {
   "cell_type": "markdown",
   "metadata": {},
   "source": [
    "### On Google Play\n"
   ]
  },
  {
   "cell_type": "code",
   "execution_count": 26,
   "metadata": {
    "collapsed": false
   },
   "outputs": [
    {
     "name": "stdout",
     "output_type": "stream",
     "text": [
      "1,000,000+ : 15.741367637102236\n",
      "100,000+ : 11.554953735048521\n",
      "10,000,000+ : 10.516813360415256\n",
      "10,000+ : 10.200857594222523\n",
      "1,000+ : 8.395396073121193\n",
      "100+ : 6.917174452719477\n",
      "5,000,000+ : 6.838185511171294\n",
      "500,000+ : 5.574362446400361\n",
      "50,000+ : 4.773188896411646\n",
      "5,000+ : 4.513653802753328\n",
      "10+ : 3.5432182351613632\n",
      "500+ : 3.2498307379823967\n",
      "50,000,000+ : 2.2906793048973144\n",
      "100,000,000+ : 2.1214172872940646\n",
      "50+ : 1.9183028661701647\n",
      "5+ : 0.7898894154818324\n",
      "1+ : 0.5077860528097494\n",
      "500,000,000+ : 0.2708192281651997\n",
      "1,000,000,000+ : 0.22568269013766643\n",
      "0+ : 0.045136538027533285\n",
      "0 : 0.011284134506883321\n"
     ]
    }
   ],
   "source": [
    "#looking at the installs column\n",
    "display(android_final, 5)"
   ]
  },
  {
   "cell_type": "markdown",
   "metadata": {},
   "source": [
    "The install numbers don't seem precise enough-- most values are open-ended (100+, 1,000+, 5,000+, etc.)\n",
    "\n",
    "It isn't obvious whether an app with 100,000+ installs has 100,000 installs, 200,000, or 500,000. For the goal of finding out which app genres attract most users, the data pertaining to number of users doesn't have to be precise.\n",
    "\n",
    "I'll consider the numbers as they are, meaning that I will leave an app with 100,000+ installs has 100,000 installs. To perform computations, I'll need to convert each install number from string to float. I need to remove tha commas and the plus characters to prevent an error."
   ]
  },
  {
   "cell_type": "code",
   "execution_count": 27,
   "metadata": {
    "collapsed": false
   },
   "outputs": [
    {
     "name": "stdout",
     "output_type": "stream",
     "text": [
      "ART_AND_DESIGN : 1986335.0877192982\n",
      "AUTO_AND_VEHICLES : 647317.8170731707\n",
      "HEALTH_AND_FITNESS : 4188821.9853479853\n",
      "FINANCE : 1387692.475609756\n",
      "BUSINESS : 1712290.1474201474\n",
      "PRODUCTIVITY : 16787331.344927534\n",
      "FOOD_AND_DRINK : 1924897.7363636363\n",
      "VIDEO_PLAYERS : 24727872.452830188\n",
      "LIBRARIES_AND_DEMO : 638503.734939759\n",
      "PARENTING : 542603.6206896552\n",
      "SPORTS : 3638640.1428571427\n",
      "COMICS : 817657.2727272727\n",
      "COMMUNICATION : 38456119.167247385\n",
      "MEDICAL : 120616.48717948717\n",
      "HOUSE_AND_HOME : 1331540.5616438356\n",
      "SOCIAL : 23253652.127118643\n",
      "PERSONALIZATION : 5201482.6122448975\n",
      "TRAVEL_AND_LOCAL : 13984077.710144928\n",
      "EDUCATION : 1820673.076923077\n",
      "TOOLS : 10682301.033377837\n",
      "BEAUTY : 513151.88679245283\n",
      "LIFESTYLE : 1437816.2687861272\n",
      "NEWS_AND_MAGAZINES : 9549178.467741935\n",
      "SHOPPING : 7036877.311557789\n",
      "EVENTS : 253542.22222222222\n",
      "ENTERTAINMENT : 11640705.88235294\n",
      "FAMILY : 3694276.334922527\n",
      "WEATHER : 5074486.197183099\n",
      "PHOTOGRAPHY : 17805627.643678162\n",
      "GAME : 15560965.599534342\n",
      "BOOKS_AND_REFERENCE : 8767811.894736841\n",
      "DATING : 854028.8303030303\n",
      "MAPS_AND_NAVIGATION : 4056941.7741935486\n"
     ]
    }
   ],
   "source": [
    "#calculating the average number of installs per app genre for the Google Play dataset\n",
    "\n",
    "android_freq_table = freq_table(android_final, 1)\n",
    "all_installs = []\n",
    "\n",
    "#create nested loop\n",
    "for category in android_freq_table:\n",
    "    total = 0\n",
    "    len_category = 0\n",
    "    for app in android_final:\n",
    "        category_app = app[1]\n",
    "        if category_app == category:\n",
    "            n_installs = app[5]   # index of 'installs'\n",
    "            n_installs = n_installs.replace('+', '')   #remove plus characters, replace with empty string\n",
    "            n_installs = n_installs.replace(',', '')   #remove commas, replace with empty string\n",
    "            total += float(n_installs)\n",
    "            len_category += 1\n",
    "    avg_n_installs = total/len_category\n",
    "    print(category, ':', avg_n_installs)\n",
    "    all_installs.append(avg_n_installs)"
   ]
  },
  {
   "cell_type": "code",
   "execution_count": 78,
   "metadata": {
    "collapsed": false,
    "scrolled": true
   },
   "outputs": [
    {
     "name": "stdout",
     "output_type": "stream",
     "text": [
      "Top user counts: [38456119.167247385, 24727872.452830188, 23253652.127118643, 17805627.643678162, 16787331.344927534]\n"
     ]
    }
   ],
   "source": [
    "all_installs_sorted = sorted(all_installs, reverse=True)\n",
    "\n",
    "top_installs = all_installs_sorted[:5]\n",
    "sum_top_installs = int(top_installs[0]) + int(top_installs[1])\n",
    "total_of_installs = len(all_installs_sorted)\n",
    "\n",
    "#print('User counts:', all_installs_sorted)\n",
    "print('Top user counts:', top_installs)\n",
    "#print('Total users:', total_of_installs)\n",
    "most_installs = top_installs[0]  #average # installs for communucation apps\n"
   ]
  },
  {
   "cell_type": "markdown",
   "metadata": {},
   "source": [
    "The most popular app categories on Google Play based on the number of users (i.e. number of installs) are Communication, Video Players, Social, Photography, and Productivity.\n",
    "\n",
    "These categories show potential for being profitable on the App Store and Google Play, especially Communication apps, which have the most installs (38,456,119). Taking a closer look at Communication apps shows that there are a few giants, similar to the App Store, that account for the majority of installs, while there are others that don't match up."
   ]
  },
  {
   "cell_type": "code",
   "execution_count": 71,
   "metadata": {
    "collapsed": false
   },
   "outputs": [
    {
     "name": "stdout",
     "output_type": "stream",
     "text": [
      "WhatsApp Messenger : 1,000,000,000+\n",
      "imo beta free calls and text : 100,000,000+\n",
      "Android Messages : 100,000,000+\n",
      "Google Duo - High Quality Video Calls : 500,000,000+\n",
      "Messenger – Text and Video Chat for Free : 1,000,000,000+\n",
      "imo free video calls and chat : 500,000,000+\n",
      "Skype - free IM & video calls : 1,000,000,000+\n",
      "Who : 100,000,000+\n",
      "GO SMS Pro - Messenger, Free Themes, Emoji : 100,000,000+\n",
      "LINE: Free Calls & Messages : 500,000,000+\n",
      "Google Chrome: Fast & Secure : 1,000,000,000+\n",
      "Firefox Browser fast & private : 100,000,000+\n",
      "UC Browser - Fast Download Private & Secure : 500,000,000+\n",
      "Gmail : 1,000,000,000+\n",
      "Hangouts : 1,000,000,000+\n",
      "Messenger Lite: Free Calls & Messages : 100,000,000+\n",
      "Kik : 100,000,000+\n",
      "KakaoTalk: Free Calls & Text : 100,000,000+\n",
      "Opera Mini - fast web browser : 100,000,000+\n",
      "Opera Browser: Fast and Secure : 100,000,000+\n",
      "Telegram : 100,000,000+\n",
      "Truecaller: Caller ID, SMS spam blocking & Dialer : 100,000,000+\n",
      "UC Browser Mini -Tiny Fast Private & Secure : 100,000,000+\n",
      "Viber Messenger : 500,000,000+\n",
      "WeChat : 100,000,000+\n",
      "Yahoo Mail – Stay Organized : 100,000,000+\n",
      "BBM - Free Calls & Messages : 100,000,000+\n"
     ]
    }
   ],
   "source": [
    "for app in android_final:\n",
    "    if app[1] == 'COMMUNICATION' and (app[5] == '1,000,000,000+'\n",
    "                                      or app[5] == '500,000,000+'\n",
    "                                        or app[5] == '100,000,000+'):\n",
    "        name = app[0]\n",
    "        print(name, ':', app[5])"
   ]
  },
  {
   "cell_type": "markdown",
   "metadata": {},
   "source": [
    "WhatsApp messenger, Messenger, and Skype, Google Chrome, Gmail, and Hangouts have the greatest number of installs (over 1,000,000,000). \n",
    "\n",
    "How do the other apps measure up?\n",
    "Let's see what the average number of installs would be if I removed the apps that have over 100 million installs."
   ]
  },
  {
   "cell_type": "code",
   "execution_count": 75,
   "metadata": {
    "collapsed": false
   },
   "outputs": [
    {
     "name": "stdout",
     "output_type": "stream",
     "text": [
      "38456119.167247385 3603485.3884615386 10.6719231581693\n"
     ]
    }
   ],
   "source": [
    "under_100 = []\n",
    "for app in android_final:\n",
    "    n_installs = app[5]\n",
    "    n_installs = n_installs.replace('+', '')\n",
    "    n_installs = n_installs.replace(',', '')\n",
    "    n_installs = float(n_installs)\n",
    "    if app[1] == 'COMMUNICATION' and n_installs < 100000000:\n",
    "        under_100.append(n_installs)\n",
    "\n",
    "avg_under_100 = sum(under_100)/len(under_100)\n",
    "\n",
    "difference_in_average = most_installs/avg_under_100\n",
    "\n",
    "print(most_installs, avg_under_100, difference_in_average)"
   ]
  },
  {
   "cell_type": "markdown",
   "metadata": {},
   "source": [
    "After removing the communication games above 100,000,000 installs, I found that the new average was 10 times smaller!\n",
    "\n",
    "The Communications genre's average number of installs is skewed by a few giants that dominate the market. It is not as popular as it seems, and it would be difficult to enter a market with such huge competitors.\n",
    "\n",
    "There is a similar pattern for runner-ups:\n",
    "    -Video Player: Youtube, Google Play Movies & TV, or MX Player\n",
    "    -Social: Facebook, Instagram, Google+\n",
    "    -Photography: Google Photos and other popular photo editors\n",
    "    -Productivity: Microsoft Word, Dropbox, Google Calendar, Evernote)\n",
    "\n",
    "The game genre is popular, but the market is saturated, so it's best to look elsewhere for recommendations."
   ]
  },
  {
   "cell_type": "markdown",
   "metadata": {},
   "source": [
    "The book and reference genre looks popular on both Google Play and the App Store. It has an average number of installs at 8,767,811.\n",
    "\n",
    "For the App Store, the number of user ratings are \"Reference 74942.11\" and \"Book : 39758.5\".\n",
    "\n",
    "Since this genre has demonstrated potential on the App Store, it fulfills the goal of recommending a profile that can be successful on both platforms."
   ]
  },
  {
   "cell_type": "markdown",
   "metadata": {},
   "source": [
    "Here are the apps in Books and Reference with their numner of installs:"
   ]
  },
  {
   "cell_type": "code",
   "execution_count": 81,
   "metadata": {
    "collapsed": false,
    "scrolled": false
   },
   "outputs": [
    {
     "name": "stdout",
     "output_type": "stream",
     "text": [
      "E-Book Read - Read Book for free : 50,000+\n",
      "Download free book with green book : 100,000+\n",
      "Wikipedia : 10,000,000+\n",
      "Cool Reader : 10,000,000+\n",
      "Free Panda Radio Music : 100,000+\n",
      "Book store : 1,000,000+\n",
      "FBReader: Favorite Book Reader : 10,000,000+\n",
      "English Grammar Complete Handbook : 500,000+\n",
      "Free Books - Spirit Fanfiction and Stories : 1,000,000+\n",
      "Google Play Books : 1,000,000,000+\n",
      "AlReader -any text book reader : 5,000,000+\n",
      "Offline English Dictionary : 100,000+\n",
      "Offline: English to Tagalog Dictionary : 500,000+\n",
      "FamilySearch Tree : 1,000,000+\n",
      "Cloud of Books : 1,000,000+\n",
      "Recipes of Prophetic Medicine for free : 500,000+\n",
      "ReadEra – free ebook reader : 1,000,000+\n",
      "Anonymous caller detection : 10,000+\n",
      "Ebook Reader : 5,000,000+\n",
      "Litnet - E-books : 100,000+\n",
      "Read books online : 5,000,000+\n",
      "English to Urdu Dictionary : 500,000+\n",
      "eBoox: book reader fb2 epub zip : 1,000,000+\n",
      "English Persian Dictionary : 500,000+\n",
      "Flybook : 500,000+\n",
      "All Maths Formulas : 1,000,000+\n",
      "Ancestry : 5,000,000+\n",
      "HTC Help : 10,000,000+\n",
      "English translation from Bengali : 100,000+\n",
      "Pdf Book Download - Read Pdf Book : 100,000+\n",
      "Free Book Reader : 100,000+\n",
      "eBoox new: Reader for fb2 epub zip books : 50,000+\n",
      "Only 30 days in English, the guideline is guaranteed : 500,000+\n",
      "Moon+ Reader : 10,000,000+\n",
      "SH-02J Owner's Manual (Android 8.0) : 50,000+\n",
      "English-Myanmar Dictionary : 1,000,000+\n",
      "Golden Dictionary (EN-AR) : 1,000,000+\n",
      "All Language Translator Free : 1,000,000+\n",
      "Azpen eReader : 500,000+\n",
      "URBANO V 02 instruction manual : 100,000+\n",
      "Bible : 100,000,000+\n",
      "C Programs and Reference : 50,000+\n",
      "C Offline Tutorial : 1,000+\n",
      "C Programs Handbook : 50,000+\n",
      "Amazon Kindle : 100,000,000+\n",
      "Aab e Hayat Full Novel : 100,000+\n",
      "Aldiko Book Reader : 10,000,000+\n",
      "Google I/O 2018 : 500,000+\n",
      "R Language Reference Guide : 10,000+\n",
      "Learn R Programming Full : 5,000+\n",
      "R Programing Offline Tutorial : 1,000+\n",
      "Guide for R Programming : 5+\n",
      "Learn R Programming : 10+\n",
      "R Quick Reference Big Data : 1,000+\n",
      "V Made : 100,000+\n",
      "Wattpad 📖 Free Books : 100,000,000+\n",
      "Dictionary - WordWeb : 5,000,000+\n",
      "Guide (for X-MEN) : 100,000+\n",
      "AC Air condition Troubleshoot,Repair,Maintenance : 5,000+\n",
      "AE Bulletins : 1,000+\n",
      "Ae Allah na Dai (Rasa) : 10,000+\n",
      "50000 Free eBooks & Free AudioBooks : 5,000,000+\n",
      "Ag PhD Field Guide : 10,000+\n",
      "Ag PhD Deficiencies : 10,000+\n",
      "Ag PhD Planting Population Calculator : 1,000+\n",
      "Ag PhD Soybean Diseases : 1,000+\n",
      "Fertilizer Removal By Crop : 50,000+\n",
      "A-J Media Vault : 50+\n",
      "Al-Quran (Free) : 10,000,000+\n",
      "Al Quran (Tafsir & by Word) : 500,000+\n",
      "Al Quran Indonesia : 10,000,000+\n",
      "Al'Quran Bahasa Indonesia : 10,000,000+\n",
      "Al Quran Al karim : 1,000,000+\n",
      "Al-Muhaffiz : 50,000+\n",
      "Al Quran : EAlim - Translations & MP3 Offline : 5,000,000+\n",
      "Al-Quran 30 Juz free copies : 500,000+\n",
      "Koran Read &MP3 30 Juz Offline : 1,000,000+\n",
      "Hafizi Quran 15 lines per page : 1,000,000+\n",
      "Quran for Android : 10,000,000+\n",
      "Surah Al-Waqiah : 100,000+\n",
      "Hisnul Al Muslim - Hisn Invocations & Adhkaar : 100,000+\n",
      "Satellite AR : 1,000,000+\n",
      "Audiobooks from Audible : 100,000,000+\n",
      "Kinot & Eichah for Tisha B'Av : 10,000+\n",
      "AW Tozer Devotionals - Daily : 5,000+\n",
      "Tozer Devotional -Series 1 : 1,000+\n",
      "The Pursuit of God : 1,000+\n",
      "AY Sing : 5,000+\n",
      "Ay Hasnain k Nana Milad Naat : 10,000+\n",
      "Ay Mohabbat Teri Khatir Novel : 10,000+\n",
      "Arizona Statutes, ARS (AZ Law) : 1,000+\n",
      "Oxford A-Z of English Usage : 1,000,000+\n",
      "BD Fishpedia : 1,000+\n",
      "BD All Sim Offer : 10,000+\n",
      "Youboox - Livres, BD et magazines : 500,000+\n",
      "B&H Kids AR : 10,000+\n",
      "B y H Niños ES : 5,000+\n",
      "Dictionary.com: Find Definitions for English Words : 10,000,000+\n",
      "English Dictionary - Offline : 10,000,000+\n",
      "Bible KJV : 5,000,000+\n",
      "Borneo Bible, BM Bible : 10,000+\n",
      "MOD Black for BM : 100+\n",
      "BM Box : 1,000+\n",
      "Anime Mod for BM : 100+\n",
      "NOOK: Read eBooks & Magazines : 10,000,000+\n",
      "NOOK Audiobooks : 500,000+\n",
      "NOOK App for NOOK Devices : 500,000+\n",
      "Browsery by Barnes & Noble : 5,000+\n",
      "bp e-store : 1,000+\n",
      "Brilliant Quotes: Life, Love, Family & Motivation : 1,000,000+\n",
      "BR Ambedkar Biography & Quotes : 10,000+\n",
      "BU Alsace : 100+\n",
      "Catholic La Bu Zo Kam : 500+\n",
      "Khrifa Hla Bu (Solfa) : 10+\n",
      "Kristian Hla Bu : 10,000+\n",
      "SA HLA BU : 1,000+\n",
      "Learn SAP BW : 500+\n",
      "Learn SAP BW on HANA : 500+\n",
      "CA Laws 2018 (California Laws and Codes) : 5,000+\n",
      "Bootable Methods(USB-CD-DVD) : 10,000+\n",
      "cloudLibrary : 100,000+\n",
      "SDA Collegiate Quarterly : 500+\n",
      "Sabbath School : 100,000+\n",
      "Cypress College Library : 100+\n",
      "Stats Royale for Clash Royale : 1,000,000+\n",
      "GATE 21 years CS Papers(2011-2018 Solved) : 50+\n",
      "Learn CT Scan Of Head : 5,000+\n",
      "Easy Cv maker 2018 : 10,000+\n",
      "How to Write CV : 100,000+\n",
      "CW Nuclear : 1,000+\n",
      "CY Spray nozzle : 10+\n",
      "BibleRead En Cy Zh Yue : 5+\n",
      "CZ-Help : 5+\n",
      "Modlitební knížka CZ : 500+\n",
      "Guide for DB Xenoverse : 10,000+\n",
      "Guide for DB Xenoverse 2 : 10,000+\n",
      "Guide for IMS DB : 10+\n",
      "DC HSEMA : 5,000+\n",
      "DC Public Library : 1,000+\n",
      "Painting Lulu DC Super Friends : 1,000+\n",
      "Dictionary : 10,000,000+\n",
      "Fix Error Google Playstore : 1,000+\n",
      "D. H. Lawrence Poems FREE : 1,000+\n",
      "Bilingual Dictionary Audio App : 5,000+\n",
      "DM Screen : 10,000+\n",
      "wikiHow: how to do anything : 1,000,000+\n",
      "Dr. Doug's Tips : 1,000+\n",
      "Bible du Semeur-BDS (French) : 50,000+\n",
      "La citadelle du musulman : 50,000+\n",
      "DV 2019 Entry Guide : 10,000+\n",
      "DV 2019 - EDV Photo & Form : 50,000+\n",
      "DV 2018 Winners Guide : 1,000+\n",
      "EB Annual Meetings : 1,000+\n",
      "EC - AP & Telangana : 5,000+\n",
      "TN Patta Citta & EC : 10,000+\n",
      "AP Stamps and Registration : 10,000+\n",
      "CompactiMa EC pH Calibration : 100+\n",
      "EGW Writings 2 : 100,000+\n",
      "EGW Writings : 1,000,000+\n",
      "Bible with EGW Comments : 100,000+\n",
      "My Little Pony AR Guide : 1,000,000+\n",
      "SDA Sabbath School Quarterly : 500,000+\n",
      "Duaa Ek Ibaadat : 5,000+\n",
      "Spanish English Translator : 10,000,000+\n",
      "Dictionary - Merriam-Webster : 10,000,000+\n",
      "JW Library : 10,000,000+\n",
      "Oxford Dictionary of English : Free : 10,000,000+\n",
      "English Hindi Dictionary : 10,000,000+\n",
      "English to Hindi Dictionary : 5,000,000+\n",
      "EP Research Service : 1,000+\n",
      "Hymnes et Louanges : 100,000+\n",
      "EU Charter : 1,000+\n",
      "EU Data Protection : 1,000+\n",
      "EU IP Codes : 100+\n",
      "EW PDF : 5+\n",
      "BakaReader EX : 100,000+\n",
      "EZ Quran : 50,000+\n",
      "FA Part 1 & 2 Past Papers Solved Free – Offline : 5,000+\n",
      "La Fe de Jesus : 1,000+\n",
      "La Fe de Jesús : 500+\n",
      "Le Fe de Jesus : 500+\n",
      "Florida - Pocket Brainbook : 1,000+\n",
      "Florida Statutes (FL Code) : 1,000+\n",
      "English To Shona Dictionary : 10,000+\n",
      "Greek Bible FP (Audio) : 1,000+\n",
      "Golden Dictionary (FR-AR) : 500,000+\n",
      "Fanfic-FR : 5,000+\n",
      "Bulgarian French Dictionary Fr : 10,000+\n",
      "Chemin (fr) : 1,000+\n",
      "The SCP Foundation DB fr nn5n : 1,000+\n"
     ]
    }
   ],
   "source": [
    "for app in android_final:\n",
    "    if app[1] == 'BOOKS_AND_REFERENCE':\n",
    "        name = app[0]\n",
    "        print(name, ':', app[5])"
   ]
  },
  {
   "cell_type": "markdown",
   "metadata": {},
   "source": [
    "The book and reference genre include a variety of apps, including aoftware for processing and reading books, various collections of libraries, dictionaries, tutorials on programming and languages, and religious texts."
   ]
  },
  {
   "cell_type": "markdown",
   "metadata": {},
   "source": [
    "Here are the popular apps in with over 100,000,000 installs."
   ]
  },
  {
   "cell_type": "code",
   "execution_count": 82,
   "metadata": {
    "collapsed": false
   },
   "outputs": [
    {
     "name": "stdout",
     "output_type": "stream",
     "text": [
      "Google Play Books : 1,000,000,000+\n",
      "Bible : 100,000,000+\n",
      "Amazon Kindle : 100,000,000+\n",
      "Wattpad 📖 Free Books : 100,000,000+\n",
      "Audiobooks from Audible : 100,000,000+\n"
     ]
    }
   ],
   "source": [
    "for app in android_final:\n",
    "    if app[1] == 'BOOKS_AND_REFERENCE' and (app[5] == '1,000,000,000+'\n",
    "                                      or app[5] == '500,000,000+'\n",
    "                                        or app[5] == '100,000,000+'):\n",
    "        name = app[0]\n",
    "        print(name, ':', app[5])"
   ]
  },
  {
   "cell_type": "markdown",
   "metadata": {},
   "source": [
    "In comparison to the other seemingly more popular categories, there aren't as many apps that skew the average.\n",
    "\n",
    "This market has potential because there are only a few popular apps. \n",
    "\n",
    "I'll look at the midrange apps, to get some ideas for app recommendations. "
   ]
  },
  {
   "cell_type": "code",
   "execution_count": 85,
   "metadata": {
    "collapsed": false
   },
   "outputs": [
    {
     "name": "stdout",
     "output_type": "stream",
     "text": [
      "Wikipedia : 10,000,000+\n",
      "Cool Reader : 10,000,000+\n",
      "Book store : 1,000,000+\n",
      "FBReader: Favorite Book Reader : 10,000,000+\n",
      "Free Books - Spirit Fanfiction and Stories : 1,000,000+\n",
      "AlReader -any text book reader : 5,000,000+\n",
      "FamilySearch Tree : 1,000,000+\n",
      "Cloud of Books : 1,000,000+\n",
      "ReadEra – free ebook reader : 1,000,000+\n",
      "Ebook Reader : 5,000,000+\n",
      "Read books online : 5,000,000+\n",
      "eBoox: book reader fb2 epub zip : 1,000,000+\n",
      "All Maths Formulas : 1,000,000+\n",
      "Ancestry : 5,000,000+\n",
      "HTC Help : 10,000,000+\n",
      "Moon+ Reader : 10,000,000+\n",
      "English-Myanmar Dictionary : 1,000,000+\n",
      "Golden Dictionary (EN-AR) : 1,000,000+\n",
      "All Language Translator Free : 1,000,000+\n",
      "Aldiko Book Reader : 10,000,000+\n",
      "Dictionary - WordWeb : 5,000,000+\n",
      "50000 Free eBooks & Free AudioBooks : 5,000,000+\n",
      "Al-Quran (Free) : 10,000,000+\n",
      "Al Quran Indonesia : 10,000,000+\n",
      "Al'Quran Bahasa Indonesia : 10,000,000+\n",
      "Al Quran Al karim : 1,000,000+\n",
      "Al Quran : EAlim - Translations & MP3 Offline : 5,000,000+\n",
      "Koran Read &MP3 30 Juz Offline : 1,000,000+\n",
      "Hafizi Quran 15 lines per page : 1,000,000+\n",
      "Quran for Android : 10,000,000+\n",
      "Satellite AR : 1,000,000+\n",
      "Oxford A-Z of English Usage : 1,000,000+\n",
      "Dictionary.com: Find Definitions for English Words : 10,000,000+\n",
      "English Dictionary - Offline : 10,000,000+\n",
      "Bible KJV : 5,000,000+\n",
      "NOOK: Read eBooks & Magazines : 10,000,000+\n",
      "Brilliant Quotes: Life, Love, Family & Motivation : 1,000,000+\n",
      "Stats Royale for Clash Royale : 1,000,000+\n",
      "Dictionary : 10,000,000+\n",
      "wikiHow: how to do anything : 1,000,000+\n",
      "EGW Writings : 1,000,000+\n",
      "My Little Pony AR Guide : 1,000,000+\n",
      "Spanish English Translator : 10,000,000+\n",
      "Dictionary - Merriam-Webster : 10,000,000+\n",
      "JW Library : 10,000,000+\n",
      "Oxford Dictionary of English : Free : 10,000,000+\n",
      "English Hindi Dictionary : 10,000,000+\n",
      "English to Hindi Dictionary : 5,000,000+\n"
     ]
    }
   ],
   "source": [
    "for app in android_final:\n",
    "    if app[1] == 'BOOKS_AND_REFERENCE' and (app[5] == '1,000,000+'\n",
    "                                            or app[5] == '5,000,000+'\n",
    "                                            or app[5] == '10,000,000+'\n",
    "                                            or app[5] == '50,000,000+'):\n",
    "        print(app[0], ':', app[5])"
   ]
  },
  {
   "cell_type": "markdown",
   "metadata": {},
   "source": [
    "The midrange apps are oversaturated with software for processing and reading ebooks, collections of libraries, dictionaries.\n",
    "\n",
    "However, there are some successful apps built for a single book, popular academic subjects (ex. All Maths Formulas), sacred texts (ex. Quran, Bible), and even help manuals (e. HTC Help) can be both profitable and feasible.\n",
    "\n",
    "The most popular software for reading ebooks include features for highlighting and notetaking. \n",
    "\n",
    "The app \"All Maths Formulas\", which has over 1 million installs, integrates its content of math formulas with calculation, visualization, quizzes, and everything that would make learning about its content practical.\n",
    "\n",
    "The app Brilliant Quotes: Life, Love, Family & Motivation, which also has over 1,000,000 installs, includes morning and evening notifications with quotes, a community of people that like quotes, a feature for saving and adding new quotes to make the content more personal, a feature for learning more about the authors of the quotes, an optionn to display content outside of the app with a widget, and a search feature for nacigating all the content.\n",
    "\n",
    "It seems that taking an in-demand academic subject or a popular book and turning it into an an app can be profitable for both App Store and Google Play.\n",
    "\n",
    "Since there are many ebook readers, I wouldn't advise simply creating an app with the raw version of the book. I would recommend adding additional features that would leverage the book's content to add more convenience and utility to the user. When people download books to their phones, tablets, and computers, it is usually for the convenience and ease of accessing the book's content. "
   ]
  },
  {
   "cell_type": "markdown",
   "metadata": {},
   "source": [
    "### Conclusions"
   ]
  },
  {
   "cell_type": "markdown",
   "metadata": {
    "collapsed": true
   },
   "source": [
    "In this project, I analyzed data about the App Store and Google Play mobile apps with the goal of recommending and app profile that can be profitable for both markets. I concluded that taking a popular book (perhaps a more recent book) and turning it into an app could be profitable for both the Google Play and the App Store markets. \n",
    "\n",
    "I would recommend creating an app based on a popular book that contains a feature for learning more about the critial and interesting points in the book with information pulled from popular sources across the web, daily quotes from the book, an audio version of the book, quizzes on the book, or a forum where people can discuss the book."
   ]
  }
 ],
 "metadata": {
  "kernelspec": {
   "display_name": "Python 3",
   "language": "python",
   "name": "python3"
  },
  "language_info": {
   "codemirror_mode": {
    "name": "ipython",
    "version": 3
   },
   "file_extension": ".py",
   "mimetype": "text/x-python",
   "name": "python",
   "nbconvert_exporter": "python",
   "pygments_lexer": "ipython3",
   "version": "3.4.3"
  }
 },
 "nbformat": 4,
 "nbformat_minor": 2
}
